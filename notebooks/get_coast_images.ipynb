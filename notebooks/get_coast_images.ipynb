{
 "cells": [
  {
   "cell_type": "code",
   "execution_count": 1,
   "id": "44a632ee-6bd5-4c8f-b105-5207401c7f22",
   "metadata": {},
   "outputs": [],
   "source": [
    "%load_ext lab_black"
   ]
  },
  {
   "cell_type": "code",
   "execution_count": 2,
   "id": "94ff00ae-40d5-4ee3-8950-8a37b939ac27",
   "metadata": {},
   "outputs": [],
   "source": [
    "from pathlib import Path\n",
    "\n",
    "import contextily as ctx\n",
    "import geopandas as gpd\n",
    "from joblib import Parallel, delayed\n",
    "from shapely.geometry import Polygon"
   ]
  },
  {
   "cell_type": "code",
   "execution_count": 3,
   "id": "2ebc2165-83d4-4b6f-bc97-d1466d3b873b",
   "metadata": {},
   "outputs": [],
   "source": [
    "root = Path(\"..\", \"data\")\n",
    "out_path = Path(root, \"outputs\")\n",
    "img_path = Path(root, \"figures\")"
   ]
  },
  {
   "cell_type": "code",
   "execution_count": 4,
   "id": "f480e418-3a33-45cb-8520-beed66b7f390",
   "metadata": {},
   "outputs": [],
   "source": [
    "coastline = gpd.read_file(\n",
    "    \"https://www2.census.gov/geo/tiger/TIGER2020/COASTLINE/tl_2020_us_coastline.zip\"\n",
    ")\n",
    "\n",
    "east_clip = Polygon(\n",
    "    [\n",
    "        (-98.0189, 25.6163),\n",
    "        (-99.0192, 28.2578),\n",
    "        (-70.0293, 44.8238),\n",
    "        (-65.9741, 45.6041),\n",
    "        (-66.4375, 44.5238),\n",
    "        (-78.9686, 31.6511),\n",
    "        (-79.75, 24.4402),\n",
    "        (-83.5973, 24.1171),\n",
    "        (-91.1961, 28.1507),\n",
    "        (-96.3344, 25.6423),\n",
    "        (-98.0189, 25.6163),\n",
    "    ]\n",
    ")\n",
    "\n",
    "gulf_east = gpd.clip(coastline, east_clip).reset_index(drop=True)\n",
    "gulf_east.to_file(Path(out_path, \"gulf_east_coastline.gpkg\"))"
   ]
  },
  {
   "cell_type": "code",
   "execution_count": 5,
   "id": "1bf50666-2edc-43f3-b8db-8d3a61aa1b73",
   "metadata": {},
   "outputs": [],
   "source": [
    "gulf_east = (\n",
    "    gulf_east[~gulf_east.geometry.is_ring].reset_index(drop=True).to_crs(\"EPSG:3857\")\n",
    ")\n",
    "bboxes = gulf_east.buffer(5e3)[gulf_east.length > 5e3].bounds\n",
    "\n",
    "fpath = Path(img_path, \"coast_images\")\n",
    "source = ctx.providers.Stamen.TonerBackground\n",
    "_ = Parallel(n_jobs=12)(\n",
    "    delayed(ctx.bounds2raster)(\n",
    "        w, s, e, n, Path(fpath, f\"image_{i}.tif\"), source=source, zoom=9\n",
    "    )\n",
    "    for i, (w, s, e, n) in bboxes.iterrows()\n",
    ")"
   ]
  }
 ],
 "metadata": {
  "kernelspec": {
   "display_name": "Python 3",
   "language": "python",
   "name": "python3"
  },
  "language_info": {
   "codemirror_mode": {
    "name": "ipython",
    "version": 3
   },
   "file_extension": ".py",
   "mimetype": "text/x-python",
   "name": "python",
   "nbconvert_exporter": "python",
   "pygments_lexer": "ipython3",
   "version": "3.9.2"
  }
 },
 "nbformat": 4,
 "nbformat_minor": 5
}
