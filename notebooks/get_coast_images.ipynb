{
 "cells": [
  {
   "cell_type": "code",
   "execution_count": 1,
   "id": "44a632ee-6bd5-4c8f-b105-5207401c7f22",
   "metadata": {},
   "outputs": [],
   "source": [
    "%load_ext lab_black"
   ]
  },
  {
   "cell_type": "code",
   "execution_count": 2,
   "id": "94ff00ae-40d5-4ee3-8950-8a37b939ac27",
   "metadata": {},
   "outputs": [],
   "source": [
    "from pathlib import Path\n",
    "\n",
    "import contextily as ctx\n",
    "import geopandas as gpd\n",
    "from joblib import Parallel, delayed"
   ]
  },
  {
   "cell_type": "code",
   "execution_count": 3,
   "id": "2ebc2165-83d4-4b6f-bc97-d1466d3b873b",
   "metadata": {},
   "outputs": [],
   "source": [
    "root = Path(\"..\", \"data\")\n",
    "out_path = Path(root, \"outputs\")\n",
    "img_path = Path(root, \"figures\")"
   ]
  },
  {
   "cell_type": "code",
   "execution_count": 4,
   "id": "c9832467-bf71-48e0-b93e-d5b692980354",
   "metadata": {},
   "outputs": [],
   "source": [
    "east_coast = gpd.read_file(Path(out_path, \"east_coast.gpkg\")).to_crs(\"EPSG:3857\")\n",
    "coords = gpd.GeoDataFrame(\n",
    "    geometry=gpd.points_from_xy(*zip(*east_coast.geometry[0].coords)),\n",
    "    crs=east_coast.crs,\n",
    ")\n",
    "coords[\"distance\"] = coords.geometry.distance(coords.geometry.shift(1)).fillna(0.0)\n",
    "coords[\"buff\"] = 0.5 * (coords[\"distance\"] + coords[\"distance\"].shift(-1).fillna(0.0))\n",
    "coords[\"bbox\"] = coords.geometry.buffer(coords[\"buff\"])\n",
    "bboxes = coords.bbox.bounds"
   ]
  },
  {
   "cell_type": "code",
   "execution_count": 5,
   "id": "7b33d0ca-1c7e-4bc0-8170-bd9989700382",
   "metadata": {},
   "outputs": [],
   "source": [
    "def get_stamen(west, south, east, north, path, style=\"TonerBackground\"):\n",
    "    source = getattr(ctx.providers.Stamen, style)\n",
    "    if not path.exists():\n",
    "        ctx.bounds2raster(\n",
    "            west,\n",
    "            south,\n",
    "            east,\n",
    "            north,\n",
    "            path,\n",
    "            source=source,\n",
    "        )"
   ]
  },
  {
   "cell_type": "code",
   "execution_count": 6,
   "id": "9c7399e7-3eab-46d2-a682-a23f098024d8",
   "metadata": {},
   "outputs": [],
   "source": [
    "fpath = Path(img_path, \"coast_images\")\n",
    "_ = Parallel(n_jobs=12)(\n",
    "    delayed(get_stamen)(w, s, e, n, Path(fpath, f\"image_{i}.tif\"))\n",
    "    for i, (w, s, e, n) in bboxes.iterrows()\n",
    ")"
   ]
  }
 ],
 "metadata": {
  "kernelspec": {
   "display_name": "Python 3",
   "language": "python",
   "name": "python3"
  },
  "language_info": {
   "codemirror_mode": {
    "name": "ipython",
    "version": 3
   },
   "file_extension": ".py",
   "mimetype": "text/x-python",
   "name": "python",
   "nbconvert_exporter": "python",
   "pygments_lexer": "ipython3",
   "version": "3.9.2"
  }
 },
 "nbformat": 4,
 "nbformat_minor": 5
}
